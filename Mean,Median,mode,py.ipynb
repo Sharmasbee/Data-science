{
 "cells": [
  {
   "cell_type": "markdown",
   "metadata": {},
   "source": [
    "# Mean"
   ]
  },
  {
   "cell_type": "markdown",
   "metadata": {},
   "source": [
    "$$ Mean_{data} = \\frac{\\sum_{i=0}^{n} X_{i}}{Total number} $$\n",
    "\n",
    "This the formula of Mean"
   ]
  },
  {
   "cell_type": "markdown",
   "metadata": {},
   "source": [
    "# Median"
   ]
  },
  {
   "cell_type": "markdown",
   "metadata": {},
   "source": [
    "$$ Median_{data} = \\frac{n+1}{n} term $$\n",
    "\n",
    "This is the formula for Median when n is odd"
   ]
  },
  {
   "cell_type": "markdown",
   "metadata": {},
   "source": [
    "$$ Median_{data} = \\frac{\\left ( \\frac{n}{2} \\right )term+\\left ( \\frac{n}{2}+1 \\right )term}{2} $$\n",
    "This is the formula for median when n is even"
   ]
  },
  {
   "cell_type": "markdown",
   "metadata": {},
   "source": [
    "# Mode"
   ]
  },
  {
   "cell_type": "markdown",
   "metadata": {},
   "source": [
    "Mode is the most repetitive value of a given set of values"
   ]
  },
  {
   "cell_type": "code",
   "execution_count": 116,
   "metadata": {},
   "outputs": [
    {
     "name": "stdout",
     "output_type": "stream",
     "text": [
      "[10, 20, 30, 40, 50, 60, 70]\n",
      "mean is 40.0\n",
      "Median for odd count is 40\n",
      "there is no mode present\n",
      "[10, 20, 30, 40, 50, 60, 70, 80]\n",
      "mean is 45.0\n",
      "Median for even count is 45.0\n",
      "there is no mode present\n",
      "[10, 10, 10, 15, 20]\n",
      "mean is 13.0\n",
      "Median for odd count is 10\n",
      "mode is 10\n"
     ]
    }
   ],
   "source": [
    "#Code from scratch to calculate mean median,mode for perticular numbers\n",
    "class CT:\n",
    "    def __init__(self,*args):\n",
    "        self.args=sorted(args)\n",
    "        print(self.args)\n",
    "    def mean(self):\n",
    "        m=0\n",
    "        for i in self.args:\n",
    "            m=m+i\n",
    "        print(\"mean is\",m/len(self.args))\n",
    "    def median(self):\n",
    "        if len(self.args)%2!=0:\n",
    "            print(\"Median for odd count is\",self.args[((len(self.args)+1)//2)-1])\n",
    "        else:\n",
    "            #m1=self.args[(len(self.args)//2)-1]\n",
    "            #m2=self.args[((len(self.args)//2)+1)-1]\n",
    "            #m3=(m1+m2)/2\n",
    "            #print(m1)\n",
    "            #print(m2)\n",
    "            #print(m3)\n",
    "            print(\"Median for even count is\",((self.args[(len(self.args)//2)-1])+(self.args[((len(self.args)//2)+1)-1]))/2)          \n",
    "    def mode(self):\n",
    "        if len(set(self.args))==len(self.args):\n",
    "            print(\"there is no mode present\")\n",
    "        else:\n",
    "            mode=max(self.args,key=self.args.count)\n",
    "            print(\"mode is\",mode)\n",
    "\n",
    "            \n",
    "            \n",
    "            \n",
    "c1=CT(10,20,30,40,50,70,60)\n",
    "c1.mean()\n",
    "c1.median()\n",
    "c1.mode()\n",
    "c2=CT(10,20,30,40,50,60,80,70)\n",
    "c2.mean()\n",
    "c2.median()\n",
    "c2.mode()\n",
    "c3=CT(10,20,15,10,10)\n",
    "c3.mean()\n",
    "c3.median()\n",
    "c3.mode()\n",
    "\n",
    "\n",
    "\n",
    "            "
   ]
  },
  {
   "cell_type": "code",
   "execution_count": 171,
   "metadata": {},
   "outputs": [
    {
     "name": "stdout",
     "output_type": "stream",
     "text": [
      "mean is [5.84333333 3.054      3.75866667 1.19866667]\n",
      "median is [5.8  3.   4.35 1.3 ]\n"
     ]
    }
   ],
   "source": [
    "#calculating mean,median,mode using numpy and pandas\n",
    "import pandas as pd\n",
    "import numpy as np\n",
    "r=pd.read_csv(\"C:\\\\Users\\\\DADA\\\\Downloads\\\\iris.csv\",names=[\"sepal length in cm\",\"sepal width in cm\",\"petal length in cm\",\n",
    "\"petal width in cm\",\"class\"])\n",
    "p=r.drop(\"class\",axis=1)\n",
    "#print(p)\n",
    "n=np.array(p)\n",
    "#print(n)\n",
    "mean=np.mean(n,axis=0)\n",
    "print(\"mean is\",mean)\n",
    "median=np.median(n,axis=0)\n",
    "print(\"median is\",median)\n",
    "#we can't calculate mode by using numpy\n"
   ]
  },
  {
   "cell_type": "code",
   "execution_count": 155,
   "metadata": {},
   "outputs": [
    {
     "data": {
      "text/plain": [
       "sepal length in cm    5.843333\n",
       "sepal width in cm     3.054000\n",
       "petal length in cm    3.758667\n",
       "petal width in cm     1.198667\n",
       "dtype: float64"
      ]
     },
     "execution_count": 155,
     "metadata": {},
     "output_type": "execute_result"
    }
   ],
   "source": [
    "r.mean()"
   ]
  },
  {
   "cell_type": "code",
   "execution_count": 156,
   "metadata": {},
   "outputs": [
    {
     "data": {
      "text/plain": [
       "sepal length in cm    5.80\n",
       "sepal width in cm     3.00\n",
       "petal length in cm    4.35\n",
       "petal width in cm     1.30\n",
       "dtype: float64"
      ]
     },
     "execution_count": 156,
     "metadata": {},
     "output_type": "execute_result"
    }
   ],
   "source": [
    "r.median()"
   ]
  },
  {
   "cell_type": "code",
   "execution_count": 170,
   "metadata": {},
   "outputs": [
    {
     "data": {
      "text/html": [
       "<div>\n",
       "<style scoped>\n",
       "    .dataframe tbody tr th:only-of-type {\n",
       "        vertical-align: middle;\n",
       "    }\n",
       "\n",
       "    .dataframe tbody tr th {\n",
       "        vertical-align: top;\n",
       "    }\n",
       "\n",
       "    .dataframe thead th {\n",
       "        text-align: right;\n",
       "    }\n",
       "</style>\n",
       "<table border=\"1\" class=\"dataframe\">\n",
       "  <thead>\n",
       "    <tr style=\"text-align: right;\">\n",
       "      <th></th>\n",
       "      <th>sepal length in cm</th>\n",
       "      <th>sepal width in cm</th>\n",
       "      <th>petal length in cm</th>\n",
       "      <th>petal width in cm</th>\n",
       "      <th>class</th>\n",
       "    </tr>\n",
       "  </thead>\n",
       "  <tbody>\n",
       "    <tr>\n",
       "      <th>0</th>\n",
       "      <td>5.0</td>\n",
       "      <td>3.0</td>\n",
       "      <td>1.5</td>\n",
       "      <td>0.2</td>\n",
       "      <td>Iris-setosa</td>\n",
       "    </tr>\n",
       "    <tr>\n",
       "      <th>1</th>\n",
       "      <td>NaN</td>\n",
       "      <td>NaN</td>\n",
       "      <td>NaN</td>\n",
       "      <td>NaN</td>\n",
       "      <td>Iris-versicolor</td>\n",
       "    </tr>\n",
       "    <tr>\n",
       "      <th>2</th>\n",
       "      <td>NaN</td>\n",
       "      <td>NaN</td>\n",
       "      <td>NaN</td>\n",
       "      <td>NaN</td>\n",
       "      <td>Iris-virginica</td>\n",
       "    </tr>\n",
       "  </tbody>\n",
       "</table>\n",
       "</div>"
      ],
      "text/plain": [
       "   sepal length in cm  sepal width in cm  petal length in cm  \\\n",
       "0                 5.0                3.0                 1.5   \n",
       "1                 NaN                NaN                 NaN   \n",
       "2                 NaN                NaN                 NaN   \n",
       "\n",
       "   petal width in cm            class  \n",
       "0                0.2      Iris-setosa  \n",
       "1                NaN  Iris-versicolor  \n",
       "2                NaN   Iris-virginica  "
      ]
     },
     "execution_count": 170,
     "metadata": {},
     "output_type": "execute_result"
    }
   ],
   "source": [
    "r.mode()"
   ]
  },
  {
   "cell_type": "code",
   "execution_count": null,
   "metadata": {},
   "outputs": [],
   "source": []
  }
 ],
 "metadata": {
  "kernelspec": {
   "display_name": "Python 3",
   "language": "python",
   "name": "python3"
  },
  "language_info": {
   "codemirror_mode": {
    "name": "ipython",
    "version": 3
   },
   "file_extension": ".py",
   "mimetype": "text/x-python",
   "name": "python",
   "nbconvert_exporter": "python",
   "pygments_lexer": "ipython3",
   "version": "3.8.5"
  }
 },
 "nbformat": 4,
 "nbformat_minor": 4
}
